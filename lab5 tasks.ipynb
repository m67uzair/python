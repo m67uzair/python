{
 "cells": [
  {
   "cell_type": "markdown",
   "id": "1afa6b9b",
   "metadata": {},
   "source": [
    "# Roll No# 19SW42\n",
    "# Name: Zohaib Hassan Soomro\n",
    "# Lab#: 05 "
   ]
  },
  {
   "cell_type": "markdown",
   "id": "85584697",
   "metadata": {},
   "source": [
    "## 1.\tWrite a Python program to get the number of occurrences of a specified element in an array. "
   ]
  },
  {
   "cell_type": "code",
   "execution_count": 14,
   "id": "e9a95589",
   "metadata": {},
   "outputs": [
    {
     "data": {
      "text/plain": [
       "3"
      ]
     },
     "execution_count": 14,
     "metadata": {},
     "output_type": "execute_result"
    }
   ],
   "source": [
    "import numpy as np\n",
    "list = np.array([0, 1, 6, 1, 4, 1, 2, 2, 7] )\n",
    "list\n",
    "np.count_nonzero(list==1)\n"
   ]
  },
  {
   "cell_type": "markdown",
   "id": "54c1444e",
   "metadata": {},
   "source": [
    "## 2.\tWrite a NumPy program to create an array with values ranging from 4 to 18."
   ]
  },
  {
   "cell_type": "code",
   "execution_count": 16,
   "id": "c632707d",
   "metadata": {},
   "outputs": [
    {
     "data": {
      "text/plain": [
       "array([ 4,  5,  6,  7,  8,  9, 10, 11, 12, 13, 14, 15, 16, 17])"
      ]
     },
     "execution_count": 16,
     "metadata": {},
     "output_type": "execute_result"
    }
   ],
   "source": [
    "np.array([i for i in range(4,18)])"
   ]
  },
  {
   "cell_type": "markdown",
   "id": "1cf0c1b3",
   "metadata": {},
   "source": [
    "## 3.\tWrite a NumPy program to reverse the order of elements in an array (first element should become the last element)"
   ]
  },
  {
   "cell_type": "code",
   "execution_count": 17,
   "id": "1715b480",
   "metadata": {},
   "outputs": [
    {
     "data": {
      "text/plain": [
       "array([7, 2, 2, 1, 4, 1, 6, 1, 0])"
      ]
     },
     "execution_count": 17,
     "metadata": {},
     "output_type": "execute_result"
    }
   ],
   "source": [
    "np.flip(list)"
   ]
  }
 ],
 "metadata": {
  "kernelspec": {
   "display_name": "Python 3",
   "language": "python",
   "name": "python3"
  },
  "language_info": {
   "codemirror_mode": {
    "name": "ipython",
    "version": 3
   },
   "file_extension": ".py",
   "mimetype": "text/x-python",
   "name": "python",
   "nbconvert_exporter": "python",
   "pygments_lexer": "ipython3",
   "version": "3.8.8"
  }
 },
 "nbformat": 4,
 "nbformat_minor": 5
}
