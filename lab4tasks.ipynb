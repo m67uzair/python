{
 "cells": [
  {
   "cell_type": "markdown",
   "id": "e4fe3bb9",
   "metadata": {},
   "source": [
    "# RollNo: 19SW42\n",
    "# Name: Zohaib Hassan Soomro\n",
    "# Subject: DS & A\n",
    "# Lab# : 04\n"
   ]
  },
  {
   "cell_type": "markdown",
   "id": "a376ec67",
   "metadata": {},
   "source": [
    "## 1. Write a Python program to multiply all the items in a list\n",
    "\n"
   ]
  },
  {
   "cell_type": "code",
   "execution_count": 4,
   "id": "22d86730",
   "metadata": {},
   "outputs": [
    {
     "name": "stdout",
     "output_type": "stream",
     "text": [
      "Multiplication is 40320\n"
     ]
    }
   ],
   "source": [
    "list=[2,3,4,5,6,7,8]\n",
    "mul=1\n",
    "for val in list:\n",
    "    mul*=val\n",
    "print('Multiplication is',mul)"
   ]
  },
  {
   "cell_type": "markdown",
   "id": "f1da3085",
   "metadata": {},
   "source": [
    "## 2. Write a Python script to print a dictionary where the keys are numbers between 1 and 15 (both included) and the values are square of keys."
   ]
  },
  {
   "cell_type": "code",
   "execution_count": 6,
   "id": "5c48e4d1",
   "metadata": {},
   "outputs": [
    {
     "name": "stdout",
     "output_type": "stream",
     "text": [
      "Dictionary:  {1: 1, 2: 4, 3: 9, 4: 16, 5: 25, 6: 36, 7: 49, 8: 64, 9: 81, 10: 100, 11: 121, 12: 144, 13: 169, 14: 196, 15: 225}\n"
     ]
    }
   ],
   "source": [
    "dict={}\n",
    "for i in range(1,16):\n",
    "    dict[i]=i*i\n",
    "print('Dictionary: ',dict)"
   ]
  },
  {
   "cell_type": "markdown",
   "id": "1c5d030b",
   "metadata": {},
   "source": [
    "## 3. Write a Python program to sum all the items in a dictionary."
   ]
  },
  {
   "cell_type": "code",
   "execution_count": 7,
   "id": "8f04b2a0",
   "metadata": {},
   "outputs": [
    {
     "name": "stdout",
     "output_type": "stream",
     "text": [
      "Dictionary:  {1: 1, 2: 4, 3: 9, 4: 16, 5: 25, 6: 36, 7: 49, 8: 64, 9: 81, 10: 100, 11: 121, 12: 144, 13: 169, 14: 196, 15: 225}\n",
      "Sum of dict items: 1240\n"
     ]
    }
   ],
   "source": [
    "dict={}\n",
    "for i in range(1,16):\n",
    "    dict[i]=i*i\n",
    "print('Dictionary: ',dict)\n",
    "sum=0\n",
    "for i in range(1,16):\n",
    "    sum+=dict[i]\n",
    "print('Sum of dict items:',sum)"
   ]
  },
  {
   "cell_type": "markdown",
   "id": "27a209d7",
   "metadata": {},
   "source": [
    "## 4. Write a function ShowStudent() which accepts Roll number and name of the student and displays both.\n"
   ]
  },
  {
   "cell_type": "code",
   "execution_count": 9,
   "id": "37a111cd",
   "metadata": {},
   "outputs": [
    {
     "name": "stdout",
     "output_type": "stream",
     "text": [
      "Rollno: 19Sw42 \n",
      "Name: Zohaib Hassan\n"
     ]
    }
   ],
   "source": [
    "def ShowStudent(rollNo,name):\n",
    "    print('Rollno:',rollNo,'\\nName:',name)\n",
    "ShowStudent('19Sw42','Zohaib Hassan')"
   ]
  },
  {
   "cell_type": "markdown",
   "id": "3685d6c7",
   "metadata": {},
   "source": [
    "## 5. Generate a Python list of all the odd numbers between 27 to 87"
   ]
  },
  {
   "cell_type": "code",
   "execution_count": 11,
   "id": "1d3ea14f",
   "metadata": {},
   "outputs": [
    {
     "name": "stdout",
     "output_type": "stream",
     "text": [
      "List of odds between(27->87): [29, 31, 33, 35, 37, 39, 41, 43, 45, 47, 49, 51, 53, 55, 57, 59, 61, 63, 65, 67, 69, 71, 73, 75, 77, 79, 81, 83, 85]\n"
     ]
    }
   ],
   "source": [
    "list=[]\n",
    "for i in range(27+1,87):\n",
    "    if(i%2==0):\n",
    "        continue\n",
    "    list.append(i)\n",
    "print('List of odds between(27->87):',list)\n",
    "    "
   ]
  },
  {
   "cell_type": "markdown",
   "id": "f7ff7765",
   "metadata": {},
   "source": [
    "## 6. Write a recursive function to calculate the sum of numbers from 0 to 10.\n"
   ]
  },
  {
   "cell_type": "code",
   "execution_count": 12,
   "id": "294ddbe3",
   "metadata": {},
   "outputs": [
    {
     "name": "stdout",
     "output_type": "stream",
     "text": [
      "Sum of 0->10: 55\n"
     ]
    }
   ],
   "source": [
    "def sum(n):\n",
    "    if(n<1):\n",
    "       return 0\n",
    "    return n + sum(n-1)\n",
    "print('Sum of 0->10:',sum(10))"
   ]
  },
  {
   "cell_type": "markdown",
   "id": "b0a7ab20",
   "metadata": {},
   "source": [
    "## 7. Write a Python function to find the Max of three numbers.\n"
   ]
  },
  {
   "cell_type": "code",
   "execution_count": 17,
   "id": "ce5c0368",
   "metadata": {},
   "outputs": [
    {
     "name": "stdout",
     "output_type": "stream",
     "text": [
      "Max(7,8,9): 9\n",
      "Max(7,18,9): 18\n",
      "Max(27,18,9): 27\n"
     ]
    }
   ],
   "source": [
    "def max(n1,n2,n3):\n",
    "    if(n1 > n2 and n1 >n3):\n",
    "        return n1\n",
    "    if(n2 > n1 and n2 >n3):\n",
    "        return n2\n",
    "    if(n3 > n2 and n3 >n1):\n",
    "        return n3    \n",
    "    return n1\n",
    "print('Max(7,8,9):',max(7,8,9))\n",
    "print('Max(7,18,9):',max(7,18,9))\n",
    "print('Max(27,18,9):',max(27,18,9))"
   ]
  },
  {
   "cell_type": "markdown",
   "id": "7812c9d1",
   "metadata": {},
   "source": [
    "## 8. Write a Python function to reverse a string (minimum 4 characters)"
   ]
  },
  {
   "cell_type": "code",
   "execution_count": 27,
   "id": "fd33e37c",
   "metadata": {},
   "outputs": [
    {
     "name": "stdout",
     "output_type": "stream",
     "text": [
      "Original: Hello World!\n",
      "Reversed:  !dlroW olleH\n"
     ]
    }
   ],
   "source": [
    "def reverseStr(str):\n",
    "    anotherStr=\"\"\n",
    "    for c in str:\n",
    "        anotherStr=c+anotherStr\n",
    "    return anotherStr\n",
    "str='Hello World!'\n",
    "print('Original:',str)\n",
    "str=reverseStr(str)\n",
    "print('Reversed: ',str)\n"
   ]
  },
  {
   "cell_type": "markdown",
   "id": "07c8f09f",
   "metadata": {},
   "source": [
    "## 9. Write a Python function to get the largest number from a list."
   ]
  },
  {
   "cell_type": "code",
   "execution_count": 29,
   "id": "8148435d",
   "metadata": {},
   "outputs": [
    {
     "name": "stdout",
     "output_type": "stream",
     "text": [
      "List: [2, 13, 54, 35, 6, 17, 8, 0]\n",
      "Largest Num: 54\n"
     ]
    }
   ],
   "source": [
    "def largest(list):\n",
    "    max=list[0]\n",
    "    for i in list[1:]:\n",
    "        if(max<i):\n",
    "            max=i\n",
    "    return max\n",
    "list=[2,13,54,35,6,17,8,0]\n",
    "\n",
    "print('List:',list)\n",
    "print('Largest Num:',largest(list))\n"
   ]
  },
  {
   "cell_type": "markdown",
   "id": "d8256162",
   "metadata": {},
   "source": [
    "## 10. Write functions for printing even and odd numbers"
   ]
  },
  {
   "cell_type": "code",
   "execution_count": 35,
   "id": "5592bd23",
   "metadata": {},
   "outputs": [
    {
     "name": "stdout",
     "output_type": "stream",
     "text": [
      "Evens(0-10): 0,2,4,6,8,\n",
      "Odds(0-10):  1,3,5,7,9,"
     ]
    }
   ],
   "source": [
    "def evens(num):\n",
    "    for i in range(0,num):\n",
    "        if(i%2==0):\n",
    "            print(i,end=',')\n",
    "def odds(num):\n",
    "    for i in range(0,num):\n",
    "        if(i%2!=0):\n",
    "            print(i,end=',')\n",
    "\n",
    "print('Evens(0-10):',end=' ')            \n",
    "evens(10)\n",
    "print('\\nOdds(0-10): ',end=' ')            \n",
    "odds(10)\n"
   ]
  },
  {
   "cell_type": "markdown",
   "id": "bd113dc6",
   "metadata": {},
   "source": [
    "## 11. Write a function to print Fibonacci series"
   ]
  },
  {
   "cell_type": "code",
   "execution_count": 42,
   "id": "a71d33bf",
   "metadata": {},
   "outputs": [
    {
     "name": "stdout",
     "output_type": "stream",
     "text": [
      "first 10 fabonacci series terms:\n",
      "0 1 1 2 3 5 8 13 21 34 "
     ]
    }
   ],
   "source": [
    "def fabonacci(num):\n",
    "    if num<=0:\n",
    "        return 0\n",
    "    elif num<=2:\n",
    "        return 1\n",
    "    return fabonacci(num-1)+fabonacci(num-2)\n",
    "print('first 10 fabonacci series terms:')\n",
    "for i in range(0,10):\n",
    "    print(fabonacci(i),end=' ')"
   ]
  }
 ],
 "metadata": {
  "kernelspec": {
   "display_name": "Python 3",
   "language": "python",
   "name": "python3"
  },
  "language_info": {
   "codemirror_mode": {
    "name": "ipython",
    "version": 3
   },
   "file_extension": ".py",
   "mimetype": "text/x-python",
   "name": "python",
   "nbconvert_exporter": "python",
   "pygments_lexer": "ipython3",
   "version": "3.8.8"
  },
  "widgets": {
   "application/vnd.jupyter.widget-state+json": {
    "state": {},
    "version_major": 2,
    "version_minor": 0
   }
  }
 },
 "nbformat": 4,
 "nbformat_minor": 5
}
